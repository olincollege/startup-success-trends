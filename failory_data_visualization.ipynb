{
 "cells": [
  {
   "cell_type": "markdown",
   "metadata": {},
   "source": [
    "# Scraping Topstartups.io\n",
    "### Anh Thu Le, Lily Jiang\n",
    "\n",
    "The industry of mobile apps is prominent and rapidly growing. With $133 billion generated across iOS and Andoid apps in 2021 - a 19% increase from 2020 (https://www.businessofapps.com/data/app-revenues/) - it is worthwhile for investors to take part in this industry. More interesting, however, are possible revenue trends and patterns among mobile app companies. Identifying these patterns makes investment choices easier (especially when choosing to invest earlier with less proof of success from the company) as it can highlight what qualities about a company indicates turning a huge profit for investments. These trends are not just useful to the investors, but also to startup founders as they can shape their path to fit patterns of success.\n",
    "\n",
    "In this notebook, we will be scraping the website https://www.failory.com/startups/mobile-apps-unicorns. This website holds data for unicorn companies in the mobile app world; as of 3/28/2022, there are 41 apps on the list. Because these companies have experienced such a high level of monetary success, they are good candidates for identifying success traits.\n",
    "\n",
    "To begin, run the cell below to ensure that all functions called in this notebook are up to date."
   ]
  },
  {
   "cell_type": "code",
   "execution_count": 1,
   "metadata": {},
   "outputs": [],
   "source": [
    "%load_ext autoreload\n",
    "%autoreload 2"
   ]
  },
  {
   "cell_type": "markdown",
   "metadata": {},
   "source": [
    "Run the cell below to _____. \n",
    "This will write all the data for SaaS companies on the website to a file called \"topstartups_data.txt\"."
   ]
  },
  {
   "cell_type": "code",
   "execution_count": 2,
   "metadata": {},
   "outputs": [],
   "source": [
    "from topstartups_io_webscraper import find_data_for_an_industry\n",
    "\n",
    "# write SaaS data to a text file\n",
    "find_data_for_an_industry(\"SaaS\")"
   ]
  },
  {
   "cell_type": "markdown",
   "metadata": {},
   "source": [
    "If you want, you can run the cell below to see what was stored in the file:"
   ]
  },
  {
   "cell_type": "code",
   "execution_count": null,
   "metadata": {},
   "outputs": [],
   "source": [
    "file = open('example.txt', 'r')\n",
    "file_contents = file.read()\n",
    "print (file_contents)\n",
    "file.close()"
   ]
  },
  {
   "cell_type": "markdown",
   "metadata": {},
   "source": [
    "this is the link we will be scraping: https://www.failory.com/startups/mobile-apps-unicorns\n",
    "\n",
    "- I was thinking we can create a graph where we compare how much funding a startup got and what the effect of that is like on their valuation. \n",
    "- Second, we can see the average valuation for these top startups relative to each other depending on what country they were created. \n",
    "- Lastly, the third graph can be the average amount of founders? \n",
    "- perhaps somehting about how much each investor on average invested (total funding amount / number of investors)"
   ]
  },
  {
   "cell_type": "markdown",
   "metadata": {},
   "source": [
    "# find:\n",
    "# funding, valuation, country (for valuation vs. country), amount of founders"
   ]
  }
 ],
 "metadata": {
  "interpreter": {
   "hash": "01a57bf88170fcef5e60988cb868a254da27f9c94aed654017aff4536d589fdc"
  },
  "kernelspec": {
   "display_name": "Python 3.9.7 ('base')",
   "language": "python",
   "name": "python3"
  },
  "language_info": {
   "codemirror_mode": {
    "name": "ipython",
    "version": 3
   },
   "file_extension": ".py",
   "mimetype": "text/x-python",
   "name": "python",
   "nbconvert_exporter": "python",
   "pygments_lexer": "ipython3",
   "version": "3.9.7"
  },
  "orig_nbformat": 4
 },
 "nbformat": 4,
 "nbformat_minor": 2
}
